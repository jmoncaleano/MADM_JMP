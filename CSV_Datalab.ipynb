{
 "cells": [
  {
   "cell_type": "code",
   "execution_count": 77,
   "metadata": {},
   "outputs": [
    {
     "data": {
      "text/html": [
       "<div>\n",
       "<style scoped>\n",
       "    .dataframe tbody tr th:only-of-type {\n",
       "        vertical-align: middle;\n",
       "    }\n",
       "\n",
       "    .dataframe tbody tr th {\n",
       "        vertical-align: top;\n",
       "    }\n",
       "\n",
       "    .dataframe thead th {\n",
       "        text-align: right;\n",
       "    }\n",
       "</style>\n",
       "<table border=\"1\" class=\"dataframe\">\n",
       "  <thead>\n",
       "    <tr style=\"text-align: right;\">\n",
       "      <th></th>\n",
       "      <th>1</th>\n",
       "      <th>Comfy Quiet Chalet</th>\n",
       "      <th>Vancouver</th>\n",
       "      <th>50</th>\n",
       "      <th>3</th>\n",
       "      <th>3.1</th>\n",
       "      <th>cottage</th>\n",
       "    </tr>\n",
       "  </thead>\n",
       "  <tbody>\n",
       "    <tr>\n",
       "      <th>0</th>\n",
       "      <td>2</td>\n",
       "      <td>Cozy Calm Hut</td>\n",
       "      <td>London</td>\n",
       "      <td>65</td>\n",
       "      <td>2</td>\n",
       "      <td>4.1</td>\n",
       "      <td>cottage</td>\n",
       "    </tr>\n",
       "    <tr>\n",
       "      <th>1</th>\n",
       "      <td>3</td>\n",
       "      <td>Agreable Calm Place</td>\n",
       "      <td>London</td>\n",
       "      <td>65</td>\n",
       "      <td>4</td>\n",
       "      <td>4.8</td>\n",
       "      <td>house</td>\n",
       "    </tr>\n",
       "    <tr>\n",
       "      <th>2</th>\n",
       "      <td>4</td>\n",
       "      <td>Colossal Quiet Chateau</td>\n",
       "      <td>Paris</td>\n",
       "      <td>3400</td>\n",
       "      <td>16</td>\n",
       "      <td>2.7</td>\n",
       "      <td>castle</td>\n",
       "    </tr>\n",
       "    <tr>\n",
       "      <th>3</th>\n",
       "      <td>5</td>\n",
       "      <td>Homy Quiet Shack</td>\n",
       "      <td>Paris</td>\n",
       "      <td>50</td>\n",
       "      <td>1</td>\n",
       "      <td>1.1</td>\n",
       "      <td>cottage</td>\n",
       "    </tr>\n",
       "    <tr>\n",
       "      <th>4</th>\n",
       "      <td>6</td>\n",
       "      <td>Pleasant Quiet Place</td>\n",
       "      <td>Dublin</td>\n",
       "      <td>35</td>\n",
       "      <td>5</td>\n",
       "      <td>4.3</td>\n",
       "      <td>house</td>\n",
       "    </tr>\n",
       "  </tbody>\n",
       "</table>\n",
       "</div>"
      ],
      "text/plain": [
       "   1      Comfy Quiet Chalet Vancouver    50   3  3.1  cottage\n",
       "0  2           Cozy Calm Hut    London    65   2  4.1  cottage\n",
       "1  3     Agreable Calm Place    London    65   4  4.8    house\n",
       "2  4  Colossal Quiet Chateau     Paris  3400  16  2.7   castle\n",
       "3  5        Homy Quiet Shack     Paris    50   1  1.1  cottage\n",
       "4  6    Pleasant Quiet Place    Dublin    35   5  4.3    house"
      ]
     },
     "execution_count": 77,
     "metadata": {},
     "output_type": "execute_result"
    }
   ],
   "source": [
    "import pandas as pd\n",
    "import csv\n",
    "from io import BytesIO\n",
    "\n",
    "%gcs read -o \"gs://jmp960-bucket/accommodation.csv\" -v accommodation\n",
    "df = pd.read_csv(BytesIO(accommodation), sep = ',')\n",
    "df.head()"
   ]
  }
 ],
 "metadata": {
  "kernelspec": {
   "display_name": "Python 2",
   "language": "python",
   "name": "python2"
  },
  "language_info": {
   "codemirror_mode": {
    "name": "ipython",
    "version": 2
   },
   "file_extension": ".py",
   "mimetype": "text/x-python",
   "name": "python",
   "nbconvert_exporter": "python",
   "pygments_lexer": "ipython2",
   "version": "2.7.15"
  }
 },
 "nbformat": 4,
 "nbformat_minor": 2
}
