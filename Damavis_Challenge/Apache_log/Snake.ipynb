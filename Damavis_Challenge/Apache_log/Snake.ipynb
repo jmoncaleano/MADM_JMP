{
 "cells": [
  {
   "cell_type": "markdown",
   "metadata": {},
   "source": [
    "Utilizamos como prueba de escritorio el Test1\n",
    "Se crean 4 arreglos adicionales para evaluar mas adelante si es posible el movimiento hacias cada uno de los lados (Up, Down, Right, Left)\n",
    "Y dos arreglos más para los pasos y la ruta evaluada"
   ]
  },
  {
   "cell_type": "code",
   "execution_count": 14,
   "metadata": {},
   "outputs": [],
   "source": [
    "import numpy as np\n",
    "\n",
    "largo = 4\n",
    "alto = 3\n",
    "board = np.arange(largo*alto).reshape(alto, largo)\n",
    "snake = [[2,2], [3,2], [3,1], [3,0], [2,0], [1,0], [0,0]]\n",
    "paths = 0\n",
    "U = [snake[0][0],snake[0][1]-1]\n",
    "D = [snake[0][0],snake[0][1]+1]\n",
    "R = [snake[0][0]+1,snake[0][1]]\n",
    "L = [snake[0][0]-1,snake[0][1]]\n",
    "pasos = []\n",
    "ruta = []"
   ]
  },
  {
   "cell_type": "markdown",
   "metadata": {},
   "source": [
    "Se crean 4 funciones, una por cada movimiento dado que se debe mover la cabeza de la serpiente y eliminar la cola, dado que la profundidad del camino a encontrar puede variar si la serpiente es estática. se evalúa que la nueva posición no este fuera del tablero ni esté sobrepuesta a la serpiente."
   ]
  },
  {
   "cell_type": "code",
   "execution_count": 2,
   "metadata": {},
   "outputs": [],
   "source": [
    "def movimiento_U(board,snake,U):\n",
    "    paths = 0\n",
    "    if (U not in snake and U[1] >= 0):\n",
    "        snake.insert(0, U)\n",
    "        snake.pop()\n",
    "        paths = paths+1\n",
    "    #else:\n",
    "    #    print(\"sin movimientos\")\n",
    "    return snake, paths, \"U\""
   ]
  },
  {
   "cell_type": "code",
   "execution_count": 3,
   "metadata": {},
   "outputs": [],
   "source": [
    "def movimiento_D(board,snake,D):\n",
    "    paths = 0\n",
    "    if (D not in snake and D[1] < board.shape[0]-1):\n",
    "        snake.insert(0, D)\n",
    "        snake.pop()\n",
    "        paths = paths+1\n",
    "    #else:\n",
    "    #    print(\"sin movimientos\")\n",
    "    return snake, paths, \"D\""
   ]
  },
  {
   "cell_type": "code",
   "execution_count": 4,
   "metadata": {},
   "outputs": [],
   "source": [
    "def movimiento_L(board,snake,L):\n",
    "    paths = 0\n",
    "    if (L not in snake and L[0] >= 0):\n",
    "        snake.insert(0, L)\n",
    "        snake.pop()\n",
    "        paths = paths+1\n",
    "    #else:\n",
    "    #    print(\"sin movimientos\")\n",
    "    return snake, paths, \"L\""
   ]
  },
  {
   "cell_type": "code",
   "execution_count": 5,
   "metadata": {},
   "outputs": [],
   "source": [
    "def movimiento_R(board,snake,R):\n",
    "    paths = 0\n",
    "    if (R not in snake and R[0] < board.shape[1]-1):\n",
    "        snake.insert(0, R)\n",
    "        snake.pop()\n",
    "        paths = paths+1\n",
    "    #else:\n",
    "    #    print(\"sin movimientos\")\n",
    "    return snake, paths, \"R\""
   ]
  },
  {
   "cell_type": "markdown",
   "metadata": {},
   "source": [
    "Una función adicional para actualizar en cada paso los arreglos de cada nueva posición"
   ]
  },
  {
   "cell_type": "code",
   "execution_count": 6,
   "metadata": {},
   "outputs": [],
   "source": [
    "def actualiza_movimientos(snake_n):\n",
    "    U = [snake_n[0][0],snake_n[0][1]-1]\n",
    "    D = [snake_n[0][0],snake_n[0][1]+1]\n",
    "    R = [snake_n[0][0]+1,snake_n[0][1]]\n",
    "    L = [snake_n[0][0]-1,snake_n[0][1]]\n",
    "    return U,D,R,L\n"
   ]
  },
  {
   "cell_type": "markdown",
   "metadata": {},
   "source": [
    "Se realizan el movimiento por cada uno de los lados posible y se continua inicialmente repitiendo el mismo movimiento mientras se cumplan las condiciones"
   ]
  },
  {
   "cell_type": "code",
   "execution_count": 15,
   "metadata": {},
   "outputs": [
    {
     "name": "stdout",
     "output_type": "stream",
     "text": [
      "([[2, 1], [2, 2], [3, 2], [3, 1], [3, 0], [2, 0], [1, 0]], 1, 'U')\n"
     ]
    }
   ],
   "source": [
    "pasos=movimiento_U(board,snake,U)\n",
    "if pasos[1]==1:\n",
    "    print(pasos)\n",
    "    paso = 1\n",
    "    ruta=pasos[2]\n",
    "    while (pasos[1]==1):\n",
    "        U=actualiza_movimientos(snake)[0]\n",
    "        pasos = movimiento_U(board,snake,U)\n",
    "        U=actualiza_movimientos(snake)[0]\n",
    "        D=actualiza_movimientos(snake)[1]\n",
    "        R=actualiza_movimientos(snake)[2]\n",
    "        L=actualiza_movimientos(snake)[3]\n",
    "        paso = paso + 1\n",
    "        ruta = ruta + pasos[2]\n",
    "        break"
   ]
  },
  {
   "cell_type": "code",
   "execution_count": 120,
   "metadata": {},
   "outputs": [],
   "source": [
    "pasos=movimiento_D(board,snake,D)\n",
    "if pasos[1]==1:\n",
    "    print(pasos)\n",
    "    paso = 1\n",
    "    ruta=pasos[2]\n",
    "    while (pasos[1]==1):\n",
    "        D=actualiza_movimientos(snake)[1]\n",
    "        pasos = movimiento_U(board,snake,U)\n",
    "        U=actualiza_movimientos(snake)[0]\n",
    "        D=actualiza_movimientos(snake)[1]\n",
    "        R=actualiza_movimientos(snake)[2]\n",
    "        L=actualiza_movimientos(snake)[3]\n",
    "        paso = paso + 1\n",
    "        ruta = ruta + pasos[2]\n",
    "        break"
   ]
  },
  {
   "cell_type": "code",
   "execution_count": null,
   "metadata": {},
   "outputs": [],
   "source": [
    "pasos=movimiento_L(board,snake,L)\n",
    "if pasos[1]==1:\n",
    "    print(pasos)\n",
    "    paso = 1\n",
    "    ruta=pasos[2]\n",
    "    while (pasos[1]==1):\n",
    "        L=actualiza_movimientos(snake)[3]\n",
    "        pasos = movimiento_L(board,snake,L)\n",
    "        U=actualiza_movimientos(snake)[0]\n",
    "        D=actualiza_movimientos(snake)[1]\n",
    "        R=actualiza_movimientos(snake)[2]\n",
    "        L=actualiza_movimientos(snake)[3]\n",
    "        paso = paso + 1\n",
    "        ruta = ruta + pasos[2]\n",
    "        break"
   ]
  },
  {
   "cell_type": "code",
   "execution_count": 93,
   "metadata": {},
   "outputs": [],
   "source": [
    "pasos=movimiento_R(board,snake,R)\n",
    "if pasos[1]==1:\n",
    "    print(pasos)\n",
    "    paso = 1\n",
    "    ruta=pasos[2]\n",
    "    while (pasos[1]==1):\n",
    "        R=actualiza_movimientos(snake)[2]\n",
    "        pasos = movimiento_R(board,snake,R)\n",
    "        U=actualiza_movimientos(snake)[0]\n",
    "        D=actualiza_movimientos(snake)[1]\n",
    "        R=actualiza_movimientos(snake)[2]\n",
    "        L=actualiza_movimientos(snake)[3]\n",
    "        paso = paso + 1\n",
    "        ruta = ruta + pasos[2]\n",
    "        break"
   ]
  },
  {
   "cell_type": "markdown",
   "metadata": {},
   "source": [
    "Prueba de escritorio"
   ]
  },
  {
   "cell_type": "code",
   "execution_count": 74,
   "metadata": {},
   "outputs": [
    {
     "name": "stdout",
     "output_type": "stream",
     "text": [
      "[[0, 2], [1, 2], [2, 2], [3, 2], [3, 1], [3, 0], [2, 0]]\n",
      "[0, 1] [0, 3] [-1, 2] [1, 2]\n"
     ]
    }
   ],
   "source": [
    "print(snake)\n",
    "print(U, D, L, R)\n",
    "print(paso)\n",
    "print(ruta)"
   ]
  }
 ],
 "metadata": {
  "kernelspec": {
   "display_name": "Python 3",
   "language": "python",
   "name": "python3"
  },
  "language_info": {
   "codemirror_mode": {
    "name": "ipython",
    "version": 3
   },
   "file_extension": ".py",
   "mimetype": "text/x-python",
   "name": "python",
   "nbconvert_exporter": "python",
   "pygments_lexer": "ipython3",
   "version": "3.7.1"
  }
 },
 "nbformat": 4,
 "nbformat_minor": 2
}
